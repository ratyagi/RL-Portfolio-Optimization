{
  "nbformat": 4,
  "nbformat_minor": 0,
  "metadata": {
    "colab": {
      "provenance": []
    },
    "kernelspec": {
      "name": "python3",
      "display_name": "Python 3"
    },
    "language_info": {
      "name": "python"
    }
  },
  "cells": [
    {
      "cell_type": "code",
      "execution_count": null,
      "metadata": {
        "id": "HfcCUAkZeWqf",
        "colab": {
          "base_uri": "https://localhost:8080/"
        },
        "outputId": "4f03bfcd-77ea-45b0-a0a1-054259520bec"
      },
      "outputs": [
        {
          "output_type": "stream",
          "name": "stdout",
          "text": [
            "Mounted at /content/drive\n",
            "/content/drive/MyDrive/RL Portfolio Optimization\n"
          ]
        }
      ],
      "source": [
        "from google.colab import drive\n",
        "drive.mount('/content/drive')\n",
        "%cd /content/drive/MyDrive/RL Portfolio Optimization"
      ]
    },
    {
      "cell_type": "code",
      "source": [
        "import sys\n",
        "sys.path.append('/content/drive/MyDrive/RL Portfolio Optimization/src')\n"
      ],
      "metadata": {
        "id": "_BoUOBV9fnDo"
      },
      "execution_count": 10,
      "outputs": []
    },
    {
      "cell_type": "code",
      "source": [
        "from portfolio_env import PortfolioEnv\n",
        "import numpy as np\n",
        "\n",
        "# Step 1: Initialize the environment\n",
        "env = PortfolioEnv(data_path=\"/content/drive/MyDrive/RL Portfolio Optimization/data/spy_regime_labeled.csv\")  # Adjust path if needed\n",
        "\n",
        "# Step 2: Reset environment\n",
        "state = env.reset()\n",
        "print(f\"Initial State: {state}\")\n",
        "\n",
        "# Step 3: Run random actions for 10 steps\n",
        "for _ in range(10):\n",
        "    action = env.action_space.sample()  # Random action: 0=Hold, 1=Buy, 2=Sell\n",
        "    next_state, reward, done, info = env.step(action)\n",
        "    env.render()\n",
        "    print(f\"Action: {action}, Reward: {reward}, Done: {done}, Portfolio Value: {info['portfolio_value']:.4f}\")\n",
        "\n",
        "    if done:\n",
        "        print(\"Reached end of dataset.\")\n",
        "        break\n"
      ],
      "metadata": {
        "colab": {
          "base_uri": "https://localhost:8080/"
        },
        "id": "D0dUcGXkfnGJ",
        "outputId": "44b0cc2f-d0fb-472c-f10d-64f1f776c57e"
      },
      "execution_count": 11,
      "outputs": [
        {
          "output_type": "stream",
          "name": "stdout",
          "text": [
            "Initial State: [ 1.7317279e+02  9.1876769e-03 -1.7850224e-02  0.0000000e+00\n",
            "  0.0000000e+00]\n",
            "Step: 1, Portfolio Value: 1.0000, Position: 0\n",
            "Action: 0, Reward: -0.0, Done: False, Portfolio Value: 1.0000\n",
            "Step: 2, Portfolio Value: 0.9965, Position: 1\n",
            "Action: 1, Reward: -0.0035365068377517, Done: False, Portfolio Value: 0.9965\n",
            "Step: 3, Portfolio Value: 1.0000, Position: 1\n",
            "Action: 0, Reward: 0.0035973385954939, Done: False, Portfolio Value: 1.0000\n",
            "Step: 4, Portfolio Value: 1.0068, Position: 1\n",
            "Action: 1, Reward: 0.0067331019125083, Done: False, Portfolio Value: 1.0068\n",
            "Step: 5, Portfolio Value: 1.0041, Position: 1\n",
            "Action: 0, Reward: -0.0026463292192133, Done: False, Portfolio Value: 1.0041\n",
            "Step: 6, Portfolio Value: 1.0075, Position: 1\n",
            "Action: 0, Reward: 0.0033772153707087, Done: False, Portfolio Value: 1.0075\n",
            "Step: 7, Portfolio Value: 1.0120, Position: 1\n",
            "Action: 1, Reward: 0.0044237211574158, Done: False, Portfolio Value: 1.0120\n",
            "Step: 8, Portfolio Value: 1.0175, Position: 1\n",
            "Action: 1, Reward: 0.0054568423941563, Done: False, Portfolio Value: 1.0175\n",
            "Step: 9, Portfolio Value: 1.0175, Position: 0\n",
            "Action: 2, Reward: -0.0, Done: False, Portfolio Value: 1.0175\n",
            "Step: 10, Portfolio Value: 1.0194, Position: 1\n",
            "Action: 1, Reward: 0.0019128699024897, Done: False, Portfolio Value: 1.0194\n"
          ]
        }
      ]
    },
    {
      "cell_type": "code",
      "source": [
        "#Installing Minimal Dependencies\n",
        "%pip install yfinance pandas numpy matplotlib seaborn scikit-learn"
      ],
      "metadata": {
        "id": "ZpzgsaidfJ-U"
      },
      "execution_count": null,
      "outputs": []
    }
  ]
}