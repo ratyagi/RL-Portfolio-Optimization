{
  "nbformat": 4,
  "nbformat_minor": 0,
  "metadata": {
    "colab": {
      "provenance": []
    },
    "kernelspec": {
      "name": "python3",
      "display_name": "Python 3"
    },
    "language_info": {
      "name": "python"
    }
  },
  "cells": [
    {
      "cell_type": "code",
      "execution_count": null,
      "metadata": {
        "colab": {
          "base_uri": "https://localhost:8080/"
        },
        "collapsed": true,
        "id": "tyBOIhOazwh4",
        "outputId": "b1bf110f-c976-4715-b25b-87c62e70658c"
      },
      "outputs": [
        {
          "output_type": "stream",
          "name": "stdout",
          "text": [
            "Requirement already satisfied: yfinance in /usr/local/lib/python3.11/dist-packages (0.2.63)\n",
            "Requirement already satisfied: pandas in /usr/local/lib/python3.11/dist-packages (2.2.2)\n",
            "Requirement already satisfied: numpy in /usr/local/lib/python3.11/dist-packages (2.0.2)\n",
            "Requirement already satisfied: matplotlib in /usr/local/lib/python3.11/dist-packages (3.10.0)\n",
            "Requirement already satisfied: seaborn in /usr/local/lib/python3.11/dist-packages (0.13.2)\n",
            "Requirement already satisfied: scikit-learn in /usr/local/lib/python3.11/dist-packages (1.6.1)\n",
            "Requirement already satisfied: requests>=2.31 in /usr/local/lib/python3.11/dist-packages (from yfinance) (2.32.3)\n",
            "Requirement already satisfied: multitasking>=0.0.7 in /usr/local/lib/python3.11/dist-packages (from yfinance) (0.0.11)\n",
            "Requirement already satisfied: platformdirs>=2.0.0 in /usr/local/lib/python3.11/dist-packages (from yfinance) (4.3.8)\n",
            "Requirement already satisfied: pytz>=2022.5 in /usr/local/lib/python3.11/dist-packages (from yfinance) (2025.2)\n",
            "Requirement already satisfied: frozendict>=2.3.4 in /usr/local/lib/python3.11/dist-packages (from yfinance) (2.4.6)\n",
            "Requirement already satisfied: peewee>=3.16.2 in /usr/local/lib/python3.11/dist-packages (from yfinance) (3.18.1)\n",
            "Requirement already satisfied: beautifulsoup4>=4.11.1 in /usr/local/lib/python3.11/dist-packages (from yfinance) (4.13.4)\n",
            "Requirement already satisfied: curl_cffi>=0.7 in /usr/local/lib/python3.11/dist-packages (from yfinance) (0.11.3)\n",
            "Requirement already satisfied: protobuf>=3.19.0 in /usr/local/lib/python3.11/dist-packages (from yfinance) (5.29.5)\n",
            "Requirement already satisfied: websockets>=13.0 in /usr/local/lib/python3.11/dist-packages (from yfinance) (15.0.1)\n",
            "Requirement already satisfied: python-dateutil>=2.8.2 in /usr/local/lib/python3.11/dist-packages (from pandas) (2.9.0.post0)\n",
            "Requirement already satisfied: tzdata>=2022.7 in /usr/local/lib/python3.11/dist-packages (from pandas) (2025.2)\n",
            "Requirement already satisfied: contourpy>=1.0.1 in /usr/local/lib/python3.11/dist-packages (from matplotlib) (1.3.2)\n",
            "Requirement already satisfied: cycler>=0.10 in /usr/local/lib/python3.11/dist-packages (from matplotlib) (0.12.1)\n",
            "Requirement already satisfied: fonttools>=4.22.0 in /usr/local/lib/python3.11/dist-packages (from matplotlib) (4.58.4)\n",
            "Requirement already satisfied: kiwisolver>=1.3.1 in /usr/local/lib/python3.11/dist-packages (from matplotlib) (1.4.8)\n",
            "Requirement already satisfied: packaging>=20.0 in /usr/local/lib/python3.11/dist-packages (from matplotlib) (24.2)\n",
            "Requirement already satisfied: pillow>=8 in /usr/local/lib/python3.11/dist-packages (from matplotlib) (11.2.1)\n",
            "Requirement already satisfied: pyparsing>=2.3.1 in /usr/local/lib/python3.11/dist-packages (from matplotlib) (3.2.3)\n",
            "Requirement already satisfied: scipy>=1.6.0 in /usr/local/lib/python3.11/dist-packages (from scikit-learn) (1.15.3)\n",
            "Requirement already satisfied: joblib>=1.2.0 in /usr/local/lib/python3.11/dist-packages (from scikit-learn) (1.5.1)\n",
            "Requirement already satisfied: threadpoolctl>=3.1.0 in /usr/local/lib/python3.11/dist-packages (from scikit-learn) (3.6.0)\n",
            "Requirement already satisfied: soupsieve>1.2 in /usr/local/lib/python3.11/dist-packages (from beautifulsoup4>=4.11.1->yfinance) (2.7)\n",
            "Requirement already satisfied: typing-extensions>=4.0.0 in /usr/local/lib/python3.11/dist-packages (from beautifulsoup4>=4.11.1->yfinance) (4.14.0)\n",
            "Requirement already satisfied: cffi>=1.12.0 in /usr/local/lib/python3.11/dist-packages (from curl_cffi>=0.7->yfinance) (1.17.1)\n",
            "Requirement already satisfied: certifi>=2024.2.2 in /usr/local/lib/python3.11/dist-packages (from curl_cffi>=0.7->yfinance) (2025.6.15)\n",
            "Requirement already satisfied: six>=1.5 in /usr/local/lib/python3.11/dist-packages (from python-dateutil>=2.8.2->pandas) (1.17.0)\n",
            "Requirement already satisfied: charset-normalizer<4,>=2 in /usr/local/lib/python3.11/dist-packages (from requests>=2.31->yfinance) (3.4.2)\n",
            "Requirement already satisfied: idna<4,>=2.5 in /usr/local/lib/python3.11/dist-packages (from requests>=2.31->yfinance) (3.10)\n",
            "Requirement already satisfied: urllib3<3,>=1.21.1 in /usr/local/lib/python3.11/dist-packages (from requests>=2.31->yfinance) (2.4.0)\n",
            "Requirement already satisfied: pycparser in /usr/local/lib/python3.11/dist-packages (from cffi>=1.12.0->curl_cffi>=0.7->yfinance) (2.22)\n"
          ]
        }
      ],
      "source": [
        "#Installing Minimal Dependencies\n",
        "%pip install yfinance pandas numpy matplotlib seaborn scikit-learn"
      ]
    },
    {
      "cell_type": "code",
      "source": [
        "!pip install vscode-colab --upgrade"
      ],
      "metadata": {
        "colab": {
          "base_uri": "https://localhost:8080/"
        },
        "id": "bw2UEa8G6hX5",
        "outputId": "3894f509-18e3-441b-f3de-43c845d6478a"
      },
      "execution_count": null,
      "outputs": [
        {
          "output_type": "stream",
          "name": "stdout",
          "text": [
            "Collecting vscode-colab\n",
            "  Downloading vscode_colab-0.3.1-py3-none-any.whl.metadata (8.1 kB)\n",
            "Requirement already satisfied: requests in /usr/local/lib/python3.11/dist-packages (from vscode-colab) (2.32.3)\n",
            "Requirement already satisfied: ipython in /usr/local/lib/python3.11/dist-packages (from vscode-colab) (7.34.0)\n",
            "Requirement already satisfied: jinja2 in /usr/local/lib/python3.11/dist-packages (from vscode-colab) (3.1.6)\n",
            "Collecting loguru (from vscode-colab)\n",
            "  Downloading loguru-0.7.3-py3-none-any.whl.metadata (22 kB)\n",
            "Requirement already satisfied: setuptools>=18.5 in /usr/local/lib/python3.11/dist-packages (from ipython->vscode-colab) (75.2.0)\n",
            "Collecting jedi>=0.16 (from ipython->vscode-colab)\n",
            "  Downloading jedi-0.19.2-py2.py3-none-any.whl.metadata (22 kB)\n",
            "Requirement already satisfied: decorator in /usr/local/lib/python3.11/dist-packages (from ipython->vscode-colab) (4.4.2)\n",
            "Requirement already satisfied: pickleshare in /usr/local/lib/python3.11/dist-packages (from ipython->vscode-colab) (0.7.5)\n",
            "Requirement already satisfied: traitlets>=4.2 in /usr/local/lib/python3.11/dist-packages (from ipython->vscode-colab) (5.7.1)\n",
            "Requirement already satisfied: prompt-toolkit!=3.0.0,!=3.0.1,<3.1.0,>=2.0.0 in /usr/local/lib/python3.11/dist-packages (from ipython->vscode-colab) (3.0.51)\n",
            "Requirement already satisfied: pygments in /usr/local/lib/python3.11/dist-packages (from ipython->vscode-colab) (2.19.1)\n",
            "Requirement already satisfied: backcall in /usr/local/lib/python3.11/dist-packages (from ipython->vscode-colab) (0.2.0)\n",
            "Requirement already satisfied: matplotlib-inline in /usr/local/lib/python3.11/dist-packages (from ipython->vscode-colab) (0.1.7)\n",
            "Requirement already satisfied: pexpect>4.3 in /usr/local/lib/python3.11/dist-packages (from ipython->vscode-colab) (4.9.0)\n",
            "Requirement already satisfied: MarkupSafe>=2.0 in /usr/local/lib/python3.11/dist-packages (from jinja2->vscode-colab) (3.0.2)\n",
            "Requirement already satisfied: charset-normalizer<4,>=2 in /usr/local/lib/python3.11/dist-packages (from requests->vscode-colab) (3.4.2)\n",
            "Requirement already satisfied: idna<4,>=2.5 in /usr/local/lib/python3.11/dist-packages (from requests->vscode-colab) (3.10)\n",
            "Requirement already satisfied: urllib3<3,>=1.21.1 in /usr/local/lib/python3.11/dist-packages (from requests->vscode-colab) (2.4.0)\n",
            "Requirement already satisfied: certifi>=2017.4.17 in /usr/local/lib/python3.11/dist-packages (from requests->vscode-colab) (2025.6.15)\n",
            "Requirement already satisfied: parso<0.9.0,>=0.8.4 in /usr/local/lib/python3.11/dist-packages (from jedi>=0.16->ipython->vscode-colab) (0.8.4)\n",
            "Requirement already satisfied: ptyprocess>=0.5 in /usr/local/lib/python3.11/dist-packages (from pexpect>4.3->ipython->vscode-colab) (0.7.0)\n",
            "Requirement already satisfied: wcwidth in /usr/local/lib/python3.11/dist-packages (from prompt-toolkit!=3.0.0,!=3.0.1,<3.1.0,>=2.0.0->ipython->vscode-colab) (0.2.13)\n",
            "Downloading vscode_colab-0.3.1-py3-none-any.whl (33 kB)\n",
            "Downloading loguru-0.7.3-py3-none-any.whl (61 kB)\n",
            "\u001b[2K   \u001b[90m━━━━━━━━━━━━━━━━━━━━━━━━━━━━━━━━━━━━━━━━\u001b[0m \u001b[32m61.6/61.6 kB\u001b[0m \u001b[31m5.9 MB/s\u001b[0m eta \u001b[36m0:00:00\u001b[0m\n",
            "\u001b[?25hDownloading jedi-0.19.2-py2.py3-none-any.whl (1.6 MB)\n",
            "\u001b[2K   \u001b[90m━━━━━━━━━━━━━━━━━━━━━━━━━━━━━━━━━━━━━━━━\u001b[0m \u001b[32m1.6/1.6 MB\u001b[0m \u001b[31m35.5 MB/s\u001b[0m eta \u001b[36m0:00:00\u001b[0m\n",
            "\u001b[?25hInstalling collected packages: loguru, jedi, vscode-colab\n",
            "Successfully installed jedi-0.19.2 loguru-0.7.3 vscode-colab-0.3.1\n"
          ]
        }
      ]
    },
    {
      "cell_type": "code",
      "source": [
        "import vscode_colab\n",
        "vscode_colab.login() # Follow instructions to authenticate with GitHub\n",
        "vscode_colab.connect(name=\"portfolio-rl\") # You can optionally add git_user_name, git_user_email, and extensions"
      ],
      "metadata": {
        "colab": {
          "base_uri": "https://localhost:8080/",
          "height": 906
        },
        "id": "r5-4VOIL6m1m",
        "outputId": "f2d12ad4-5306-41bd-f768-67c885daeee8"
      },
      "execution_count": null,
      "outputs": [
        {
          "output_type": "stream",
          "name": "stderr",
          "text": [
            "\u001b[32m2025-06-22 09:33:38\u001b[0m | \u001b[1mINFO    \u001b[0m | \u001b[36mvscode_colab.server:download_vscode_cli:58\u001b[0m - \u001b[1mVS Code CLI already exists and is executable at /content/code. Skipping download.\u001b[0m\n",
            "\u001b[32m2025-06-22 09:33:38\u001b[0m | \u001b[1mINFO    \u001b[0m | \u001b[36mvscode_colab.server:_login:220\u001b[0m - \u001b[1mInitiating VS Code Tunnel login with command: /content/code tunnel user login --provider github\u001b[0m\n",
            "\u001b[32m2025-06-22 09:33:38\u001b[0m | \u001b[1mINFO    \u001b[0m | \u001b[36mvscode_colab.server:_login:254\u001b[0m - \u001b[1mMonitoring login process output for GitHub authentication URL and code...\u001b[0m\n",
            "\u001b[32m2025-06-22 09:33:38\u001b[0m | \u001b[1mINFO    \u001b[0m | \u001b[36mvscode_colab.server:_login:272\u001b[0m - \u001b[1mDetected authentication URL: https://github.com/login/device\u001b[0m\n",
            "\u001b[32m2025-06-22 09:33:38\u001b[0m | \u001b[1mINFO    \u001b[0m | \u001b[36mvscode_colab.server:_login:278\u001b[0m - \u001b[1mDetected authentication code: B8F9-1C90\u001b[0m\n",
            "\u001b[32m2025-06-22 09:33:38\u001b[0m | \u001b[1mINFO    \u001b[0m | \u001b[36mvscode_colab.server:_login:281\u001b[0m - \u001b[1mAuthentication URL and code detected. Displaying to user.\u001b[0m\n"
          ]
        },
        {
          "output_type": "display_data",
          "data": {
            "text/plain": [
              "<IPython.core.display.HTML object>"
            ],
            "text/html": [
              "<div style=\"padding: 15px; background-color: #f0f7ff; border-radius: 8px; margin: 15px 0; font-family: Arial, sans-serif; border: 1px solid #c8e1ff; line-height: 1.6;\">\n",
              "    <h3 style=\"margin-top: 0; color: #0366d6; font-size: 18px;\">GitHub Authentication Required</h3>\n",
              "    <p style=\"margin-bottom: 15px; color: #333333;\">Please open the link below in a new tab and enter the following code:</p>\n",
              "    <div style=\"display: flex; align-items: center; margin-bottom: 15px; flex-wrap: wrap; gap: 15px;\">\n",
              "        <a href=\"https://github.com/login/device\" target=\"_blank\"\n",
              "            style=\"background-color: #2ea44f; color: white; padding: 10px 16px; text-decoration: none; border-radius: 6px; font-weight: 500; white-space: nowrap;\">\n",
              "            Open GitHub Authentication Page\n",
              "        </a>\n",
              "        <div id=\"code-container\" style=\"background-color: #ffffff; border: 1px solid #d1d5da; border-radius: 6px; padding: 10px 16px; font-family: 'SFMono-Regular', Consolas, 'Liberation Mono', Menlo, monospace; display: flex; align-items: center;\">\n",
              "            <span id=\"auth-code\" style=\"margin-right: 15px; font-size: 16px; user-select: all; color: #24292e;\">B8F9-1C90</span>\n",
              "        </div>\n",
              "    </div>\n",
              "    <p id=\"copy-fallback-note\" style=\"font-size: small; color: #586069; margin-top: 10px; display: none;\">\n",
              "        Please select the code manually and copy it.\n",
              "    </p>\n",
              "    <script>\n",
              "        (function() {\n",
              "            // The Jinja2 'tojson' filter correctly escapes the string for JavaScript.\n",
              "            const codeToCopy = \"B8F9-1C90\";\n",
              "            const codeContainer = document.getElementById('code-container');\n",
              "            const fallbackNote = document.getElementById('copy-fallback-note');\n",
              "\n",
              "            function attemptCopy() {\n",
              "                const copyButton = document.getElementById('dynamicCopyButton');\n",
              "                if (!copyButton) return;\n",
              "\n",
              "                navigator.clipboard.writeText(codeToCopy).then(() => {\n",
              "                    copyButton.textContent = 'Copied!';\n",
              "                    copyButton.style.backgroundColor = '#dff0d8';\n",
              "                    copyButton.style.borderColor = '#d6e9c6';\n",
              "                    copyButton.style.color = '#3c763d';\n",
              "                    setTimeout(() => {\n",
              "                        copyButton.textContent = 'Copy';\n",
              "                        copyButton.style.backgroundColor = '#f6f8fa';\n",
              "                        copyButton.style.borderColor = '#d1d5da';\n",
              "                        copyButton.style.color = '';\n",
              "                    }, 2500);\n",
              "                }).catch(err => {\n",
              "                    console.error('Failed to copy code automatically: ', err);\n",
              "                    copyButton.textContent = 'Copy Failed';\n",
              "                    copyButton.disabled = true;\n",
              "                    copyButton.style.backgroundColor = '#f2dede';\n",
              "                    copyButton.style.borderColor = '#ebccd1';\n",
              "                    copyButton.style.color = '#a94442';\n",
              "                    fallbackNote.style.display = 'block';\n",
              "                });\n",
              "            }\n",
              "\n",
              "            if (navigator.clipboard && navigator.clipboard.writeText) {\n",
              "                const button = document.createElement('button');\n",
              "                button.id = 'dynamicCopyButton';\n",
              "                button.textContent = 'Copy';\n",
              "                button.style.backgroundColor = '#f6f8fa';\n",
              "                button.style.border = '1px solid #d1d5da';\n",
              "                button.style.borderRadius = '6px';\n",
              "                button.style.padding = '6px 12px';\n",
              "                button.style.cursor = 'pointer';\n",
              "                button.style.fontSize = '14px';\n",
              "                button.style.whiteSpace = 'nowrap';\n",
              "                button.style.marginLeft = '10px';\n",
              "                button.onclick = attemptCopy;\n",
              "                codeContainer.appendChild(button);\n",
              "            } else {\n",
              "                fallbackNote.style.display = 'block';\n",
              "            }\n",
              "        })();\n",
              "    </script>\n",
              "</div>"
            ]
          },
          "metadata": {}
        },
        {
          "output_type": "stream",
          "name": "stderr",
          "text": [
            "\u001b[32m2025-06-22 09:33:38\u001b[0m | \u001b[1mINFO    \u001b[0m | \u001b[36mvscode_colab.server:login:200\u001b[0m - \u001b[1mLogin successful: Set environment variable VSCODE_COLAB_LOGGED_IN=true\u001b[0m\n",
            "\u001b[32m2025-06-22 09:33:38\u001b[0m | \u001b[1mINFO    \u001b[0m | \u001b[36mvscode_colab.server:connect:579\u001b[0m - \u001b[1mInitial CWD for connect operation: /content\u001b[0m\n",
            "\u001b[32m2025-06-22 09:33:38\u001b[0m | \u001b[1mINFO    \u001b[0m | \u001b[36mvscode_colab.server:download_vscode_cli:58\u001b[0m - \u001b[1mVS Code CLI already exists and is executable at /content/code. Skipping download.\u001b[0m\n",
            "\u001b[32m2025-06-22 09:33:38\u001b[0m | \u001b[1mINFO    \u001b[0m | \u001b[36mvscode_colab.server:_launch_and_monitor_tunnel:457\u001b[0m - \u001b[1mStarting VS Code tunnel with command: /content/code tunnel --accept-server-license-terms --name portfolio-rl --install-extension mgesbert.python-path --install-extension ms-python.black-formatter --install-extension ms-python.debugpy --install-extension ms-python.isort --install-extension ms-python.python --install-extension ms-python.vscode-pylance --install-extension ms-toolsai.jupyter --install-extension ms-toolsai.jupyter-keymap --install-extension ms-toolsai.jupyter-renderers --install-extension ms-toolsai.tensorboard\u001b[0m\n",
            "\u001b[32m2025-06-22 09:33:38\u001b[0m | \u001b[1mINFO    \u001b[0m | \u001b[36mvscode_colab.server:_launch_and_monitor_tunnel:458\u001b[0m - \u001b[1mTunnel will run with CWD: /content\u001b[0m\n",
            "\u001b[32m2025-06-22 09:33:38\u001b[0m | \u001b[1mINFO    \u001b[0m | \u001b[36mvscode_colab.server:_launch_and_monitor_tunnel:483\u001b[0m - \u001b[1mMonitoring tunnel 'portfolio-rl' process output for connection URL...\u001b[0m\n",
            "\u001b[32m2025-06-22 09:33:38\u001b[0m | \u001b[1mINFO    \u001b[0m | \u001b[36mvscode_colab.server:_launch_and_monitor_tunnel:505\u001b[0m - \u001b[1mVS Code Tunnel URL for 'portfolio-rl' detected: https://vscode.dev/tunnel/portfolio-rl/content\u001b[0m\n"
          ]
        },
        {
          "output_type": "display_data",
          "data": {
            "text/plain": [
              "<IPython.core.display.HTML object>"
            ],
            "text/html": [
              "\n",
              "<div style=\"padding:15px; background:#f0f9f0; border-radius:8px; margin:15px 0; font-family:Arial,sans-serif; border:1px solid #c8e6c9; line-height: 1.6;\">\n",
              "    <h3 style=\"margin:0 0 15px; color:#2e7d32; font-size: 18px;\">✅ VS Code Tunnel Ready!</h3>\n",
              "    <p style=\"margin-bottom: 15px; color: #333333;\">You can connect in two ways:</p>\n",
              "    <div style=\"margin-bottom: 15px;\">\n",
              "        <strong style=\"color: #333333;\">1. Open in Browser:</strong><br>\n",
              "        <a href=\"https://vscode.dev/tunnel/portfolio-rl/content\" target=\"_blank\"\n",
              "            style=\"background-color:#1976d2; color:white; padding:10px 16px; border-radius:6px; text-decoration:none; font-weight:500; display:inline-block; margin-top: 5px;\">\n",
              "            Open VS Code Web\n",
              "        </a>\n",
              "    </div>\n",
              "    <hr style=\"border: 0; border-top: 1px solid #c8e6c9; margin: 20px 0;\" />\n",
              "    <div style=\"margin-bottom: 10px; color: #333333;\">\n",
              "        <strong style=\"color: #333333;\">2. Connect from Desktop VS Code:</strong>\n",
              "        <ol style=\"margin-top: 5px; padding-left: 20px; color: #333333;\">\n",
              "            <li>Make sure you have the <a href=\"https://marketplace.visualstudio.com/items?itemName=ms-vscode.remote-server\" target=\"_blank\" style=\"color: #1976d2;\">Remote Tunnels</a> extension installed.</li>\n",
              "            <li>Ensure you are signed in to VS Code with the <strong>same GitHub account</strong> used for authentication.</li>\n",
              "            <li>Open the Command Palette (<kbd style=\"background: #e0e0e0; color: #333; padding: 2px 4px; border-radius: 3px; border: 1px solid #ccc; font-family: monospace;\">Ctrl+Shift+P</kbd> or <kbd style=\"background: #e0e0e0; color: #333; padding: 2px 4px; border-radius: 3px; border: 1px solid #ccc; font-family: monospace;\">Cmd+Shift+P</kbd>).</li>\n",
              "            <li>Run the command: <code style=\"background: #e0e0e0; color: #333; padding: 2px 5px; border-radius: 3px;\">Remote Tunnels: Connect to Tunnel</code></li>\n",
              "            <li>Select the tunnel named \"<strong style=\"color: #333333;\">portfolio-rl</strong>\" from the list.</li>\n",
              "        </ol>\n",
              "    </div>\n",
              "</div>"
            ]
          },
          "metadata": {}
        },
        {
          "output_type": "stream",
          "name": "stderr",
          "text": [
            "\u001b[32m2025-06-22 09:33:38\u001b[0m | \u001b[1mINFO    \u001b[0m | \u001b[36mvscode_colab.server:connect:627\u001b[0m - \u001b[1mVS Code tunnel 'portfolio-rl' process started successfully.\u001b[0m\n"
          ]
        },
        {
          "output_type": "execute_result",
          "data": {
            "text/plain": [
              "<Popen: returncode: None args: ['/content/code', 'tunnel', '--accept-server-...>"
            ]
          },
          "metadata": {},
          "execution_count": 5
        }
      ]
    },
    {
      "cell_type": "code",
      "source": [
        "# notebooks/1_regime_detection.ipynb\n",
        "import pandas as pd\n",
        "import numpy as np\n",
        "\n",
        "df = pd.read_csv(\"data/ohlcv_data.csv\", header=[0,1])\n",
        "df = df['SPY']  # Start with one asset for simplicity\n",
        "\n",
        "df['returns'] = df['Close'].pct_change()\n",
        "df['volatility'] = df['returns'].rolling(window=20).std()\n",
        "df['momentum'] = df['Close'].pct_change(periods=20)\n",
        "df = df.dropna()"
      ],
      "metadata": {
        "id": "gvZxt1YAz8YX"
      },
      "execution_count": null,
      "outputs": []
    }
  ]
}